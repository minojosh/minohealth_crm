{
 "cells": [
  {
   "cell_type": "code",
   "execution_count": null,
   "metadata": {},
   "outputs": [],
   "source": [
    "import requests\n",
    "\n",
    "url = \"\"\n",
    "payload = {\n",
    "    \"prompt\": \"Hello, this is a test of text-to-speech.\",\n",
    "    \"voice\": \"tara\"\n",
    "}\n",
    "\n",
    "response = requests.post(url, json=payload)\n",
    "if response.status_code == 200:\n",
    "    with open(\"output.wav\", \"wb\") as f:\n",
    "        f.write(response.content)"
   ]
  }
 ],
 "metadata": {
  "kernelspec": {
   "display_name": "Python 3",
   "language": "python",
   "name": "python3"
  },
  "language_info": {
   "codemirror_mode": {
    "name": "ipython",
    "version": 3
   },
   "file_extension": ".py",
   "mimetype": "text/x-python",
   "name": "python",
   "nbconvert_exporter": "python",
   "pygments_lexer": "ipython3",
   "version": "3.13.1"
  }
 },
 "nbformat": 4,
 "nbformat_minor": 2
}
